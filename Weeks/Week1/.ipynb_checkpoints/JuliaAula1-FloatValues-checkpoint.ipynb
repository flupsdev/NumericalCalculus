{
 "cells": [
  {
   "cell_type": "code",
   "execution_count": 1,
   "metadata": {},
   "outputs": [
    {
     "data": {
      "text/plain": [
       "Int64"
      ]
     },
     "execution_count": 1,
     "metadata": {},
     "output_type": "execute_result"
    }
   ],
   "source": [
    "Int64  # Apresentando o Inteiro de 64 bits."
   ]
  },
  {
   "cell_type": "code",
   "execution_count": 2,
   "metadata": {},
   "outputs": [
    {
     "data": {
      "text/plain": [
       "Int32"
      ]
     },
     "execution_count": 2,
     "metadata": {},
     "output_type": "execute_result"
    }
   ],
   "source": [
    "Int32  # Apresentando o Inteiro de 32 bits."
   ]
  },
  {
   "cell_type": "code",
   "execution_count": 3,
   "metadata": {},
   "outputs": [
    {
     "data": {
      "text/plain": [
       "Int8"
      ]
     },
     "execution_count": 3,
     "metadata": {},
     "output_type": "execute_result"
    }
   ],
   "source": [
    "Int8 # Apresentando o Inteiro de 8 bits (que vamos testar a teoria dita anteriormente no vídeo)."
   ]
  },
  {
   "cell_type": "code",
   "execution_count": 9,
   "metadata": {},
   "outputs": [
    {
     "data": {
      "text/plain": [
       "-128"
      ]
     },
     "execution_count": 9,
     "metadata": {},
     "output_type": "execute_result"
    }
   ],
   "source": [
    "# Como na teoria com o int de 8 bits podemos suportar valores apenas de -128 à 127, faremos\n",
    "# então um teste para confirmar isso.\n",
    "Int8(100) + Int8(28)"
   ]
  },
  {
   "cell_type": "code",
   "execution_count": 13,
   "metadata": {},
   "outputs": [
    {
     "data": {
      "text/plain": [
       "-127"
      ]
     },
     "execution_count": 13,
     "metadata": {},
     "output_type": "execute_result"
    }
   ],
   "source": [
    "# Tivemos oque era esperado, ele inverteu o sinal, por que sabemos que o ultimo número da\n",
    "# esquerda representa sinal, negativo quando 1 e positivo quando 0.\n",
    "\n",
    "# Mas oque aconteceria se passassemos até do valor que suportamos em negativo ? \n",
    "Int8(100) + Int8(29)\n"
   ]
  },
  {
   "cell_type": "code",
   "execution_count": 29,
   "metadata": {},
   "outputs": [
    {
     "name": "stdout",
     "output_type": "stream",
     "text": [
      "A aproximação usando a soma 127 + 127 em Int8 é : -2\n",
      "A aproximação usando a soma -127 + -127 em Int8 é : 0\n"
     ]
    }
   ],
   "source": [
    "# Observamos que ele vai aumentando o valor negativo, se aproximando do 0.\n",
    "# Indo assim até a soma Int8(127) + Int8(127). \n",
    "# E apartir disso, a máquina não conseguirá mais realizar a conta, uma vez que não existe \n",
    "# o valor 128 representado em Int8, se tentarmos inclusive Int8(-128) + Int8(-128) vai gerar\n",
    "# um erro.\n",
    "\n",
    "# Já se usarmos o Metódo inverso, e tentarmos se aproximar de 0 usando os negativos, \n",
    "# conseguiremos, pois temos representação de -128.\n",
    "\n",
    "AproximacaoPositiva = Int8(127) + Int8(127)\n",
    "AproximacaoNegativa = Int8(-128) + Int8(-128)\n",
    "\n",
    "println(\"A aproximação usando a soma 127 + 127 em Int8 é : \" * string(AproximacaoPositiva))\n",
    "println(\"A aproximação usando a soma -127 + -127 em Int8 é : \" * string(AproximacaoNegativa))"
   ]
  },
  {
   "cell_type": "code",
   "execution_count": 31,
   "metadata": {},
   "outputs": [
    {
     "data": {
      "text/plain": [
       "9223372036854775807"
      ]
     },
     "execution_count": 31,
     "metadata": {},
     "output_type": "execute_result"
    }
   ],
   "source": [
    "# Agora considerando que os números Int da linguagem Julia são por padrão 64bits.\n",
    "# teremos 2^64 possibilidades de representação de números.\n",
    "\n",
    "x = 2^63 - 1 # Maior número positivo que vai ser representado no Julia."
   ]
  },
  {
   "cell_type": "code",
   "execution_count": 32,
   "metadata": {},
   "outputs": [
    {
     "data": {
      "text/plain": [
       "-9223372036854775808"
      ]
     },
     "execution_count": 32,
     "metadata": {},
     "output_type": "execute_result"
    }
   ],
   "source": [
    "x + 1 # Maior número negativo que vai ser representado no Julia."
   ]
  },
  {
   "cell_type": "code",
   "execution_count": 33,
   "metadata": {},
   "outputs": [
    {
     "data": {
      "text/plain": [
       "-9223372036854775808"
      ]
     },
     "execution_count": 33,
     "metadata": {},
     "output_type": "execute_result"
    }
   ],
   "source": [
    "-(x + 1) \n",
    "# Por curiosidade é igual ao proprio x+1, porque ele transforma o número em -9223372036854775808\n",
    "# e depois tenta transformar em +9223372036854775808 que não existe e por sua vez pode \n",
    "# ser representado como -9223372036854775808. Matemágica."
   ]
  },
  {
   "cell_type": "code",
   "execution_count": 49,
   "metadata": {},
   "outputs": [
    {
     "data": {
      "text/plain": [
       "1"
      ]
     },
     "execution_count": 49,
     "metadata": {},
     "output_type": "execute_result"
    }
   ],
   "source": [
    "x * x \n",
    "# Estamos fazendo a conta 9223372036854775807 * 9223372036854775807 que é o mesmo que \n",
    "# (2^63 - 1)^2 = (2^63)^2 + (-1 * 2 * 2^63) + 1\n",
    "# 2^126 - 2^64 + 1\n",
    "# Como 2^126 = 0 e 2^64\n",
    "# Temos 0 - 0 + 1 = 1"
   ]
  },
  {
   "cell_type": "code",
   "execution_count": 55,
   "metadata": {},
   "outputs": [
    {
     "data": {
      "text/plain": [
       "4611686018427387904"
      ]
     },
     "execution_count": 55,
     "metadata": {},
     "output_type": "execute_result"
    }
   ],
   "source": [
    "y = 2^62 "
   ]
  },
  {
   "cell_type": "code",
   "execution_count": 52,
   "metadata": {},
   "outputs": [
    {
     "data": {
      "text/plain": [
       "0"
      ]
     },
     "execution_count": 52,
     "metadata": {},
     "output_type": "execute_result"
    }
   ],
   "source": [
    "y^2 # Mesma explicação do x*x"
   ]
  },
  {
   "cell_type": "code",
   "execution_count": 54,
   "metadata": {},
   "outputs": [
    {
     "data": {
      "text/plain": [
       "-4611686018427387904"
      ]
     },
     "execution_count": 54,
     "metadata": {},
     "output_type": "execute_result"
    }
   ],
   "source": [
    "x * y # Se multiplicarmos nossa nova variável, y pelo numero valor maximo representavel, ele\n",
    "      # vai mudar de sinal."
   ]
  },
  {
   "cell_type": "code",
   "execution_count": 56,
   "metadata": {},
   "outputs": [
    {
     "data": {
      "text/plain": [
       "4455508415646675013373597242420117818453694838130159772560668808816707086990958982033203334310070688731662890013605553436739351074980172000127431349940128178077122187317837794167991459381249"
      ]
     },
     "execution_count": 56,
     "metadata": {},
     "output_type": "execute_result"
    }
   ],
   "source": [
    "(BigInt(2)^63-1)^10 # BigInt é uma forma de fazer a máquina tentar usar números maiores\n",
    "                    # que o permitido, se houver memória disponível."
   ]
  },
  {
   "cell_type": "code",
   "execution_count": 59,
   "metadata": {},
   "outputs": [
    {
     "data": {
      "text/plain": [
       "Inf"
      ]
     },
     "execution_count": 59,
     "metadata": {},
     "output_type": "execute_result"
    }
   ],
   "source": [
    "10.0^309 # Retorna Inf -> valor suficientemente grande para ser considerado como infinito \n",
    "         # no contexto que estamos."
   ]
  },
  {
   "cell_type": "code",
   "execution_count": 60,
   "metadata": {},
   "outputs": [
    {
     "data": {
      "text/plain": [
       "0.0"
      ]
     },
     "execution_count": 60,
     "metadata": {},
     "output_type": "execute_result"
    }
   ],
   "source": [
    "1 / Inf"
   ]
  },
  {
   "cell_type": "code",
   "execution_count": 62,
   "metadata": {},
   "outputs": [
    {
     "data": {
      "text/plain": [
       "-0.0"
      ]
     },
     "execution_count": 62,
     "metadata": {},
     "output_type": "execute_result"
    }
   ],
   "source": [
    "-1 / Inf "
   ]
  },
  {
   "cell_type": "code",
   "execution_count": 63,
   "metadata": {},
   "outputs": [
    {
     "data": {
      "text/plain": [
       "-0.0"
      ]
     },
     "execution_count": 63,
     "metadata": {},
     "output_type": "execute_result"
    }
   ],
   "source": [
    "1 / -Inf "
   ]
  },
  {
   "cell_type": "code",
   "execution_count": 64,
   "metadata": {},
   "outputs": [
    {
     "data": {
      "text/plain": [
       "NaN"
      ]
     },
     "execution_count": 64,
     "metadata": {},
     "output_type": "execute_result"
    }
   ],
   "source": [
    "Inf - Inf # not an number"
   ]
  },
  {
   "cell_type": "code",
   "execution_count": 65,
   "metadata": {},
   "outputs": [
    {
     "data": {
      "text/plain": [
       "NaN"
      ]
     },
     "execution_count": 65,
     "metadata": {},
     "output_type": "execute_result"
    }
   ],
   "source": [
    "Inf / Inf"
   ]
  },
  {
   "cell_type": "code",
   "execution_count": 66,
   "metadata": {},
   "outputs": [
    {
     "data": {
      "text/plain": [
       "NaN"
      ]
     },
     "execution_count": 66,
     "metadata": {},
     "output_type": "execute_result"
    }
   ],
   "source": [
    "0 / 0"
   ]
  },
  {
   "cell_type": "code",
   "execution_count": null,
   "metadata": {},
   "outputs": [],
   "source": [
    "# Testando como vai se comportar a infinidade de divisões por dois, mas vemos que uma hora\n",
    "# vai parar em 0, não é certo 100% matematicamente mas acontece pelo limite do float64. \n",
    "x = 1.0\n",
    "while x > 0\n",
    "    x = x / 2\n",
    "    println(\"x = $x\")\n",
    "end"
   ]
  },
  {
   "cell_type": "code",
   "execution_count": null,
   "metadata": {},
   "outputs": [],
   "source": []
  }
 ],
 "metadata": {
  "kernelspec": {
   "display_name": "Julia 1.5.3",
   "language": "julia",
   "name": "julia-1.5"
  },
  "language_info": {
   "file_extension": ".jl",
   "mimetype": "application/julia",
   "name": "julia",
   "version": "1.5.3"
  }
 },
 "nbformat": 4,
 "nbformat_minor": 4
}
